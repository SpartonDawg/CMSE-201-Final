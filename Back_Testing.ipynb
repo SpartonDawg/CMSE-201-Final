{
 "cells": [
  {
   "cell_type": "code",
   "execution_count": 1,
   "metadata": {
    "collapsed": true
   },
   "outputs": [],
   "source": [
    "import pandas as pd\n",
    "import datetime\n",
    "import matplotlib.pyplot as plt\n",
    "import datetime\n",
    "import datetime as dt\n",
    "import numpy as np\n",
    "import random\n",
    "import seaborn as sns\n",
    "import matplotlib.dates as mdates\n",
    "from matplotlib.ticker import FuncFormatter\n",
    "from matplotlib.ticker import PercentFormatter\n",
    "from scipy.stats import norm\n",
    "import warnings\n",
    "warnings.simplefilter(action='ignore', category=FutureWarning)\n",
    "sns.set_style(\"darkgrid\")\n"
   ]
  },
  {
   "cell_type": "code",
   "execution_count": 2,
   "metadata": {},
   "outputs": [
    {
     "name": "stdout",
     "output_type": "stream",
     "text": [
      "2.6706211443061187\n",
      "-0.0007733600245450519\n",
      "6.949646336445967\n"
     ]
    }
   ],
   "source": [
    "#### Reading in Euro/Dollar Exchange Quotes\n",
    "sp = pd.read_csv(\"eurcsv.csv\")\n",
    "\n",
    "#Defining Dates and Closing Prices\n",
    "close = sp['Price']\n",
    "date = sp['Date']\n",
    "\n",
    "def tester(date_in,price_in,technical):\n",
    "    buys = []\n",
    "    shorts = []\n",
    "    rets = []\n",
    "    s_rets = []\n",
    "    benchmark = []\n",
    "    date = pd.to_datetime(date_in)\n",
    "    twenty_six = price_in.ewm(span=26).mean()\n",
    "    twelve = price_in.ewm(span=12).mean()\n",
    "    macd = twelve - twenty_six\n",
    "    delta_macd = macd.pct_change(periods=2)\n",
    "\n",
    "    for i in range(len(price_in)-1):\n",
    "        if macd[i] > technical:\n",
    "            buys.append(i)\n",
    "    for i in buys:\n",
    "        j = int(i)\n",
    "        j1 = int(i+1)\n",
    "        returns = ((price_in[j1] - price_in[j])/price_in[j])*100\n",
    "        rets.append(returns)\n",
    "    \n",
    "#    plt.plot(np.cumsum(rets))\n",
    "    total_return = np.cumsum(rets)\n",
    "    end_return = total_return[-1]\n",
    "    return end_return, rets\n",
    "            \n",
    "tester(date,close,0)\n",
    "\n",
    "\n",
    "def random_walker(n):\n",
    "    starter = [0]\n",
    "    \n",
    "    x_start, indicator = tester(date,close,starter[-1])\n",
    "    print(x_start)\n",
    "\n",
    "    for i in range(n):\n",
    "        test_x = np.random.uniform(-1,1)/300\n",
    "        random_return, indicator = tester(date,close,test_x)\n",
    "        test_return, notimportant = tester(date,close,starter[-1])\n",
    "        if random_return > test_return:\n",
    "            starter.append(test_x)\n",
    "    print(starter[-1])\n",
    "    x,y = tester(date,close,starter[-1])\n",
    "    print(x)\n",
    "    plt.plot(np.cumsum(y))\n",
    "            \n",
    "            \n",
    "         \n",
    "random_walker(100)"
   ]
  },
  {
   "cell_type": "code",
   "execution_count": 3,
   "metadata": {
    "collapsed": true
   },
   "outputs": [],
   "source": [
    "#Reading in Euro/Dollar Exchange Quotes\n",
    "sp = pd.read_csv(\"eurcsv.csv\")\n",
    "\n",
    "#Defining Dates and Closing Prices\n",
    "close = sp['Price']\n",
    "date = sp['Date']\n",
    "\n",
    "\n",
    "def tester(date_in,price_in):\n",
    "    buys = []\n",
    "    shorts = []\n",
    "    rets = []\n",
    "    s_rets = []\n",
    "    benchmark = []\n",
    "    date = pd.to_datetime(date_in)\n",
    "    twenty_six = price_in.ewm(span=26).mean()\n",
    "    twelve = price_in.ewm(span=12).mean()\n",
    "    macd = twelve - twenty_six\n",
    "    delta_macd = macd.pct_change(periods=2)\n",
    "    mix = []\n",
    "    mix_port = []\n",
    "\n",
    "    for i in range(len(price_in)-1):\n",
    "        if macd[i] > 0.0 or delta_macd[i] < -.75:\n",
    "            buys.append(i)\n",
    "            mix.append(i)\n",
    "        elif delta_macd[i] < -.15 or macd[i] < -.003:\n",
    "            shorts.append(i)\n",
    "            mix.append(i)\n",
    "    for i in buys:\n",
    "        j = int(i)\n",
    "        j1 = int(i+1)\n",
    "        returns = ((price_in[j1] - price_in[j])/price_in[j])*100\n",
    "        rets.append(returns)\n",
    "    for i in shorts:\n",
    "        s = int(i)\n",
    "        s1 = int(i+1)\n",
    "        s_returns = ((price_in[s1] - price_in[s])/price_in[s])*-100\n",
    "        s_rets.append(s_returns)\n",
    "#    for i in mix:\n",
    "#        j = int(i)\n",
    "#        j1 = int(i+1)\n",
    "#        mix_return = ((price_in[j1] - price_in[j])/price_in[j])*100\n",
    "#        mix_port.append(mix_return)        \n",
    "        \n",
    "    for i in range(len(price_in)-1):\n",
    "        z = int(i)\n",
    "        z1 = int(i+1)\n",
    "        base = ((price_in[z1] - price_in[z])/price_in[z])*100\n",
    "        benchmark.append(base)\n",
    "    x_bench = np.linspace(0,1,len(benchmark))\n",
    "    x_strat = np.linspace(0,1,len(rets))   \n",
    "    x_short = np.linspace(0,1,len(s_rets))\n",
    "    fig, ax = plt.subplots(figsize=(12,5))\n",
    "\n",
    "    ax.plot(x_strat, np.cumsum(rets),label=\"Long Strategy\")\n",
    "    ax.plot(x_bench, np.cumsum(benchmark),label=\"Benchmark\")\n",
    "    ax.plot(x_short, np.cumsum(s_rets),label=\"Short Strategy\")\n",
    "#    ax2 = ax.twinx()\n",
    "#    ax2.plot(np.linspace(0,1,len(macd)), macd, 'r')\n",
    "    ax.yaxis.set_major_formatter(PercentFormatter())    \n",
    "    ax.legend(fontsize=15)\n",
    "    print(\"Strategy Return = %\",sum(rets))\n",
    "    print(\"Total Return Outright = %\",sum(benchmark))\n",
    "    \n",
    "    #RISK ASSESMENT BENCHMARK\n",
    "    delta_returns = price_in.pct_change()\n",
    "    mean_returns = np.mean(delta_returns)\n",
    "    std_returns = np.std(delta_returns)\n",
    "    VAR_95 = norm.ppf(1-0.95,mean_returns, std_returns)*100\n",
    "    print(\"Benchmark VAR @ confidence Level = 95% Level\", VAR_95)\n",
    "    \n",
    "    #RISK ASSESMENT STRATEGY\n",
    "    #delta_returns_strat = price_in.pct_change()\n",
    "    mean_returns_strat = np.mean(rets)\n",
    "    std_returns_strat = np.std(rets)\n",
    "    VAR_95_strat = norm.ppf(1-0.95,mean_returns_strat, std_returns_strat)\n",
    "    print(\"Strategy VAR @ confidence Level = 95% Level\", VAR_95_strat)\n",
    "    "
   ]
  },
  {
   "cell_type": "code",
   "execution_count": 4,
   "metadata": {},
   "outputs": [
    {
     "name": "stdout",
     "output_type": "stream",
     "text": [
      "Strategy Return = % 4.27947568859152\n",
      "Total Return Outright = % -2.3431411707984164\n",
      "Benchmark VAR @ confidence Level = 95% Level -0.76299255408721\n",
      "Strategy VAR @ confidence Level = 95% Level -0.7137476109944961\n"
     ]
    }
   ],
   "source": [
    "tester(date,close)"
   ]
  },
  {
   "cell_type": "code",
   "execution_count": 5,
   "metadata": {},
   "outputs": [
    {
     "ename": "NameError",
     "evalue": "name 'macd' is not defined",
     "output_type": "error",
     "traceback": [
      "\u001b[1;31m---------------------------------------------------------------------------\u001b[0m",
      "\u001b[1;31mNameError\u001b[0m                                 Traceback (most recent call last)",
      "\u001b[1;32m<ipython-input-5-380213305526>\u001b[0m in \u001b[0;36m<module>\u001b[1;34m()\u001b[0m\n\u001b[0;32m      1\u001b[0m \u001b[0mdate\u001b[0m \u001b[1;33m=\u001b[0m \u001b[0mpd\u001b[0m\u001b[1;33m.\u001b[0m\u001b[0mto_datetime\u001b[0m\u001b[1;33m(\u001b[0m\u001b[0msp\u001b[0m\u001b[1;33m[\u001b[0m\u001b[1;34m'Date'\u001b[0m\u001b[1;33m]\u001b[0m\u001b[1;33m)\u001b[0m\u001b[1;33m\u001b[0m\u001b[0m\n\u001b[0;32m      2\u001b[0m \u001b[0mfig\u001b[0m\u001b[1;33m,\u001b[0m \u001b[0max1\u001b[0m \u001b[1;33m=\u001b[0m \u001b[0mplt\u001b[0m\u001b[1;33m.\u001b[0m\u001b[0msubplots\u001b[0m\u001b[1;33m(\u001b[0m\u001b[0mfigsize\u001b[0m\u001b[1;33m=\u001b[0m\u001b[1;33m(\u001b[0m\u001b[1;36m13\u001b[0m\u001b[1;33m,\u001b[0m\u001b[1;36m5\u001b[0m\u001b[1;33m)\u001b[0m\u001b[1;33m)\u001b[0m\u001b[1;33m\u001b[0m\u001b[0m\n\u001b[1;32m----> 3\u001b[1;33m \u001b[0max1\u001b[0m\u001b[1;33m.\u001b[0m\u001b[0mplot\u001b[0m\u001b[1;33m(\u001b[0m\u001b[0mdate\u001b[0m\u001b[1;33m,\u001b[0m \u001b[0mmacd\u001b[0m\u001b[1;33m,\u001b[0m \u001b[1;34m'b-'\u001b[0m\u001b[1;33m)\u001b[0m\u001b[1;33m\u001b[0m\u001b[0m\n\u001b[0m\u001b[0;32m      4\u001b[0m \u001b[0max2\u001b[0m \u001b[1;33m=\u001b[0m \u001b[0max1\u001b[0m\u001b[1;33m.\u001b[0m\u001b[0mtwinx\u001b[0m\u001b[1;33m(\u001b[0m\u001b[1;33m)\u001b[0m\u001b[1;33m\u001b[0m\u001b[0m\n\u001b[0;32m      5\u001b[0m \u001b[0max2\u001b[0m\u001b[1;33m.\u001b[0m\u001b[0mplot\u001b[0m\u001b[1;33m(\u001b[0m\u001b[0mdate\u001b[0m\u001b[1;33m,\u001b[0m \u001b[0mclose\u001b[0m\u001b[1;33m,\u001b[0m \u001b[1;34m'r'\u001b[0m\u001b[1;33m)\u001b[0m\u001b[1;33m\u001b[0m\u001b[0m\n",
      "\u001b[1;31mNameError\u001b[0m: name 'macd' is not defined"
     ]
    }
   ],
   "source": [
    "date = pd.to_datetime(sp['Date'])\n",
    "fig, ax1 = plt.subplots(figsize=(13,5))\n",
    "ax1.plot(date, macd, 'b-')\n",
    "ax2 = ax1.twinx()\n",
    "ax2.plot(date, close, 'r')\n",
    "ax2.set_ylabel(color='r')\n",
    "ax2.tick_params('y', colors='r')\n",
    "fig.tight_layout()"
   ]
  },
  {
   "cell_type": "code",
   "execution_count": null,
   "metadata": {
    "collapsed": true
   },
   "outputs": [],
   "source": []
  },
  {
   "cell_type": "code",
   "execution_count": null,
   "metadata": {
    "collapsed": true
   },
   "outputs": [],
   "source": []
  }
 ],
 "metadata": {
  "kernelspec": {
   "display_name": "Python 3",
   "language": "python",
   "name": "python3"
  },
  "language_info": {
   "codemirror_mode": {
    "name": "ipython",
    "version": 3
   },
   "file_extension": ".py",
   "mimetype": "text/x-python",
   "name": "python",
   "nbconvert_exporter": "python",
   "pygments_lexer": "ipython3",
   "version": "3.6.3"
  }
 },
 "nbformat": 4,
 "nbformat_minor": 2
}
