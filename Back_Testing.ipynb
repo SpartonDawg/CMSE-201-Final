{
 "cells": [
  {
   "cell_type": "code",
   "execution_count": null,
   "metadata": {
    "collapsed": true
   },
   "outputs": [],
   "source": [
    "import pandas as pd\n",
    "import datetime\n",
    "import pandas_datareader\n",
    "from pandas_datareader import data as web\n",
    "import matplotlib.pyplot as plt\n",
    "import datetime\n",
    "import datetime as dt\n",
    "import numpy as np\n",
    "import random\n",
    "import matplotlib.dates as mdates\n",
    "from matplotlib.ticker import FuncFormatter\n",
    "from matplotlib.ticker import PercentFormatter\n",
    "from scipy.stats import norm\n",
    "import warnings\n",
    "warnings.simplefilter(action='ignore', category=FutureWarning)"
   ]
  },
  {
   "cell_type": "code",
   "execution_count": null,
   "metadata": {
    "collapsed": true
   },
   "outputs": [],
   "source": [
    "sp = eurcsv\n",
    "close = sp['Price']\n",
    "date = sp['Date']\n",
    "\n",
    "\n",
    "returns = ((close[2] - close[1])/close[1])*100\n",
    "print(close[2])\n",
    "print(close[1])\n",
    "print(returns)\n",
    "\n",
    "\n",
    "def tester(date_in,price_in):\n",
    "    buys = []\n",
    "    shorts = []\n",
    "    rets = []\n",
    "    s_rets = []\n",
    "    benchmark = []\n",
    "    date = pd.to_datetime(date_in)\n",
    "    twenty_six = pd.ewma(price_in, span=26)\n",
    "    twelve = pd.ewma(price_in, span=12)\n",
    "    macd = twelve - twenty_six\n",
    "    delta_macd = macd.pct_change(periods=2)\n",
    "    mix = []\n",
    "    mix_port = []\n",
    "    print(delta_macd)\n",
    "\n",
    "    for i in range(len(price_in)-1):\n",
    "        if macd[i] > 0:\n",
    "            buys.append(i)\n",
    "            mix.append(i)\n",
    "        elif delta_macd[i] < -.15 and macd[i] < -.003:\n",
    "            shorts.append(i)\n",
    "            mix.append(i)\n",
    "    for i in buys:\n",
    "        j = int(i)\n",
    "        j1 = int(i+1)\n",
    "        returns = ((price_in[j1] - price_in[j])/price_in[j])*100\n",
    "        rets.append(returns)\n",
    "    for i in shorts:\n",
    "        s = int(i)\n",
    "        s1 = int(i+1)\n",
    "        s_returns = ((price_in[s1] - price_in[s])/price_in[s])*-100\n",
    "        s_rets.append(s_returns)\n",
    "#    for i in mix:\n",
    "#        j = int(i)\n",
    "#        j1 = int(i+1)\n",
    "#        mix_return = ((price_in[j1] - price_in[j])/price_in[j])*100\n",
    "#        mix_port.append(mix_return)        \n",
    "        \n",
    "    for i in range(len(price_in)-1):\n",
    "        z = int(i)\n",
    "        z1 = int(i+1)\n",
    "        base = ((price_in[z1] - price_in[z])/price_in[z])*100\n",
    "        benchmark.append(base)\n",
    "    plt.plot(np.cumsum(mix_port))\n",
    "    x_bench = np.linspace(0,1,len(benchmark))\n",
    "    x_strat = np.linspace(0,1,len(rets))      \n",
    "    plt.plot(np.cumsum(s_rets))\n",
    "    fig, ax = plt.subplots(figsize=(12,5))\n",
    "\n",
    "    ax.plot(x_strat, np.cumsum(rets),label=\"Strategy\")\n",
    "    ax.plot(x_bench, np.cumsum(benchmark),label=\"Benchmark\")\n",
    "#    ax2 = ax.twinx()\n",
    "#    ax2.plot(np.linspace(0,1,len(macd)), macd, 'r')\n",
    "    ax.yaxis.set_major_formatter(PercentFormatter())    \n",
    "    ax.legend(fontsize=15)\n",
    "    print(\"Strategy Return = %\",sum(rets))\n",
    "    print(\"Total Return Outright = %\",sum(benchmark))\n",
    "    \n",
    "    #RISK ASSESMENT BENCHMARK\n",
    "    delta_returns = price_in.pct_change()\n",
    "    mean_returns = np.mean(delta_returns)\n",
    "    std_returns = np.std(delta_returns)\n",
    "    VAR_95 = norm.ppf(1-0.95,mean_returns, std_returns)*100\n",
    "    print(\"Benchmark VAR @ confidence Level = 95% Level\", VAR_95)\n",
    "    \n",
    "    #RISK ASSESMENT STRATEGY\n",
    "    #delta_returns_strat = price_in.pct_change()\n",
    "    mean_returns_strat = np.mean(rets)\n",
    "    std_returns_strat = np.std(rets)\n",
    "    VAR_95_strat = norm.ppf(1-0.95,mean_returns_strat, std_returns_strat)\n",
    "    print(\"Strategy VAR @ confidence Level = 95% Level\", VAR_95_strat)"
   ]
  },
  {
   "cell_type": "code",
   "execution_count": null,
   "metadata": {
    "collapsed": true
   },
   "outputs": [],
   "source": [
    "tester(date,close)"
   ]
  },
  {
   "cell_type": "code",
   "execution_count": null,
   "metadata": {
    "collapsed": true
   },
   "outputs": [],
   "source": [
    "twenty_six = pd.ewma(close, span=26)\n",
    "twelve = pd.ewma(close, span=12)\n",
    "macd = twelve - twenty_six\n",
    "date = pd.to_datetime(sp['Date'])\n",
    "fig, ax1 = plt.subplots(figsize=(13,5))\n",
    "ax1.plot(date, macd, 'b-')\n",
    "ax2 = ax1.twinx()\n",
    "ax2.plot(date, close, 'r')\n",
    "ax2.set_ylabel(color='r')\n",
    "ax2.tick_params('y', colors='r')\n",
    "fig.tight_layout()"
   ]
  }
 ],
 "metadata": {
  "kernelspec": {
   "display_name": "Python 3",
   "language": "python",
   "name": "python3"
  },
  "language_info": {
   "codemirror_mode": {
    "name": "ipython",
    "version": 3
   },
   "file_extension": ".py",
   "mimetype": "text/x-python",
   "name": "python",
   "nbconvert_exporter": "python",
   "pygments_lexer": "ipython3",
   "version": "3.6.3"
  }
 },
 "nbformat": 4,
 "nbformat_minor": 2
}
